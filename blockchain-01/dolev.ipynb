{
 "cells": [
  {
   "cell_type": "markdown",
   "metadata": {},
   "source": [
    "# Dolev-Strong in Python \n",
    "\n",
    "This will be a self-contained notebook which implements the Dolev-Strong Consensus protocol in python. If you want to understand how it works checkout the resources below (specifically the first one!)\n",
    "\n",
    "<div align=\"center\">\n",
    "<img src=\"2022-10-15-12-20-04.png\" width=\"450\" height=\"300\">\n",
    "</div>\n",
    "\n",
    "### Resources \n",
    "\n",
    "http://elaineshi.com/docs/blockchain-book.pdf - best resource imo on basics\n",
    "\n",
    "https://decentralizedthoughts.github.io/ - second best; good for cross-checking\n",
    "\n",
    "https://www.youtube.com/watch?v=rKGhbC6Uync - good video series to learn more from \n",
    "\n",
    "https://nakamotoinstitute.org/literature/ - interesting historical notes on btc"
   ]
  },
  {
   "cell_type": "markdown",
   "metadata": {},
   "source": [
    "### Signature Chains\n",
    "```python\n",
    "# signature chain outline:\n",
    "# > SIGN\n",
    "# 1 sig: \n",
    "    # sig = sign(msg)\n",
    "# 2 sig: \n",
    "    # sig2 = sign(sig)\n",
    "# > VERIFY\n",
    "# verify(sig2) == sig\n",
    "# verify(sig) == msg\n",
    "```"
   ]
  },
  {
   "cell_type": "code",
   "execution_count": 1,
   "metadata": {},
   "outputs": [],
   "source": [
    "import rsa \n",
    "from dataclasses import dataclass\n",
    "\n",
    "@dataclass\n",
    "class SignatureItem: \n",
    "    msg: bytes\n",
    "    sig: bytes \n",
    "    pk: bytes \n",
    "\n",
    "SignatureChain = list[SignatureItem]\n",
    "\n",
    "def verify(msg, sig, pk) -> bool:\n",
    "    try: \n",
    "        rsa.verify(msg, sig, pk)\n",
    "        return True\n",
    "    except rsa.VerificationError:\n",
    "        return False"
   ]
  },
  {
   "cell_type": "code",
   "execution_count": 32,
   "metadata": {},
   "outputs": [],
   "source": [
    "users = [rsa.newkeys(512) for _ in range(2)]\n",
    "pks, sks = list(zip(*users))\n",
    "\n",
    "# sign \n",
    "msg = b'0x19'\n",
    "\n",
    "sig_chain: SignatureChain = []\n",
    "for i, sk in enumerate(sks):\n",
    "    sig = rsa.sign(msg, sk, 'SHA-1')\n",
    "\n",
    "    # if i == 1: # (verification fails)\n",
    "    #     # random sig\n",
    "    #     sig = b'\\x13\\x84\"m\\x16\\xaf\\xdeuw\\xbf\\x02\\x86Nl\\xe2\\x17\\xe6\\xfc\\xe4:\\xb4\\x04\\xacW\\x06\\x8d^%\\xc5\\xe5%<\\r)\"\\x0e\\x8d33\\xc1+\\x83ZE\\r\\xbdHO\\x93C\\xbf\\xca\\xaa\\x00\\xb7\\x18[\\xf7#\\x94\\xc7\\x98y\\x14'\n",
    "\n",
    "    sig_item = SignatureItem(msg, sig, pks[i])\n",
    "    sig_chain.append(sig_item)\n",
    "    msg = sig\n",
    "\n",
    "# verify \n",
    "sig_item: SignatureItem\n",
    "for sig_item in sig_chain[::-1]:\n",
    "    # if fails = throws error\n",
    "    assert verify(sig_item.msg, sig_item.sig, sig_item.pk), 'verification failed..'"
   ]
  },
  {
   "cell_type": "markdown",
   "metadata": {},
   "source": [
    "### Dolev Nodes"
   ]
  },
  {
   "cell_type": "code",
   "execution_count": 31,
   "metadata": {},
   "outputs": [],
   "source": [
    "class Node: \n",
    "    def __init__(self, name) -> None:\n",
    "        self.pk, self.sk = rsa.newkeys(512)\n",
    "        self.name = name \n",
    "        self.chain = []\n",
    "        self.network = []\n",
    "    \n",
    "    def set_network(self, network: list):\n",
    "        _network = []\n",
    "        for n in network: \n",
    "            if n.name != self.name: _network.append(n)\n",
    "        self.network = _network\n",
    "\n",
    "    def recv(self, msg: bytes, sig_chain: SignatureChain = []):\n",
    "        assert len(sig_chain) == 0 or msg == sig_chain[0].msg\n",
    "\n",
    "        # verify signature chain so far\n",
    "        sig_item: SignatureItem\n",
    "        for sig_item in sig_chain[::-1]:\n",
    "            # if fails = throws error\n",
    "            result = verify(sig_item.msg, sig_item.sig, sig_item.pk)\n",
    "            if not result: \n",
    "                print('sig verification failed...')\n",
    "                return \n",
    "\n",
    "        # check if full network signed -- if so, add it to the chain! \n",
    "        already_signed = any([item.pk == self.pk for item in sig_chain])\n",
    "        network_signed = len(sig_chain) == len(self.network) + 1\n",
    "        is_last_sig = len(sig_chain) == len(self.network) and not already_signed\n",
    "        if network_signed or is_last_sig:\n",
    "            print(f'node {self.name}: msg {msg} fully verified...')\n",
    "            self.chain.append(msg)\n",
    "\n",
    "        if not already_signed: \n",
    "            # add this node's signature\n",
    "            last_sig = msg if len(sig_chain) == 0 else sig_chain[-1].sig\n",
    "            sig = rsa.sign(last_sig, self.sk, 'SHA-1')\n",
    "            sig_item = SignatureItem(last_sig, sig, self.pk)\n",
    "            sig_chain.append(sig_item)\n",
    "\n",
    "            # broadcast signature to other nodes\n",
    "            for node in self.network:\n",
    "                node.recv(msg, sig_chain)\n"
   ]
  },
  {
   "cell_type": "code",
   "execution_count": 32,
   "metadata": {},
   "outputs": [
    {
     "name": "stdout",
     "output_type": "stream",
     "text": [
      "node 2: msg b'0x19' fully verified...\n",
      "node 1: msg b'0x19' fully verified...\n",
      "node 1 chain: [b'0x19']\n",
      "node 2 chain: [b'0x19']\n"
     ]
    }
   ],
   "source": [
    "node1 = Node(1)\n",
    "node2 = Node(2)\n",
    "\n",
    "network = [node1, node2]\n",
    "for n in network:\n",
    "    n.set_network(network)\n",
    "\n",
    "# user sends msg to nodes\n",
    "msg = b'0x19'\n",
    "network[0].recv(msg)\n",
    "\n",
    "# check the chain \n",
    "for n in network:\n",
    "    print(f'node {n.name} chain: {n.chain}')"
   ]
  }
 ],
 "metadata": {
  "kernelspec": {
   "display_name": "Python 3.10.4 ('10')",
   "language": "python",
   "name": "python3"
  },
  "language_info": {
   "codemirror_mode": {
    "name": "ipython",
    "version": 3
   },
   "file_extension": ".py",
   "mimetype": "text/x-python",
   "name": "python",
   "nbconvert_exporter": "python",
   "pygments_lexer": "ipython3",
   "version": "3.10.4"
  },
  "orig_nbformat": 4,
  "vscode": {
   "interpreter": {
    "hash": "7a4fbd860e800df71bf0bd3c91ce94aea665d6c58d8dccfe7d8d2df798748a1f"
   }
  }
 },
 "nbformat": 4,
 "nbformat_minor": 2
}
